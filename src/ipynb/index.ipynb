{
 "cells": [
  {
   "cell_type": "markdown",
   "metadata": {},
   "source": [
    "# Actuator\n",
    "The Actuator project is developing an OML reference model.\n"
   ]
  },
  {
   "cell_type": "markdown",
   "metadata": {},
   "source": [
    "## Use Case\n",
    "The use case is illustrated as follows: "
   ]
  },
  {
   "cell_type": "code",
   "execution_count": 124,
   "metadata": {},
   "outputs": [
    {
     "data": {
      "text/markdown": [
       "![Alt text](http://www.plantuml.com/plantuml/img/TS-z2i9G30NWtQS8xWwsdOe88ZgBFxF4wr6kw4r9Kj6tjo9MEtJ8S20V9p4u6IfMTb5AaZ2GmmN1QRYRZqkgLExnY5dmcZrAsieiNg6IXiH6pGfD9hKXi64w_QVx1hjoiblqLYz50xvots-pacuSapUp4ejlsggiL-KbuO5GEvOShni-OGsh9DclCk_5HKcA87Ve8a7FpvOK7VB-M4QZp_sTb7LItad5u0K=)"
      ],
      "text/plain": [
       "<IPython.core.display.Markdown object>"
      ]
     },
     "execution_count": 124,
     "metadata": {},
     "output_type": "execute_result"
    }
   ],
   "source": [
    "from utilities import *\n",
    "df = dataframe(\"usecase3.json\")\n",
    "usecases1= todict(df, 'uc1_id', 'uc1_name')\n",
    "usecases2= todict(df, 'uc2_id', 'uc2_name')\n",
    "aggregations = tolists(df, 'uc1_id', 'uc2_id')\n",
    "\n",
    "diagram(objects(union(usecases1, usecases2), aggregations, 'o--', 'usecase'))"
   ]
  },
  {
   "cell_type": "code",
   "execution_count": 156,
   "metadata": {},
   "outputs": [
    {
     "name": "stdout",
     "output_type": "stream",
     "text": [
      "[['UC1', 'Actor1'], ['UC1', 'Actor2'], ['UC1', 'Actor3'], ['UC1', 'Actor4'], ['UC1', 'Actor5']]\n"
     ]
    },
    {
     "data": {
      "text/markdown": [
       "![Alt text](http://www.plantuml.com/plantuml/img/ROzD2u90443l_egXkuVyk8W88dKEAZflDjZ6khECez6_Rql914_B6zvZTZeKwD0fLa8CbYm6T7rWBR0vLziC7DEWRrZMqYlHP4zKQeDCTWEg0wz0daDH_28l4ljkPmVjhHQjVCrnlYP76LoqRMOhMhFY3FuNZxCrCSbWRtHp5wZ82fFnR-jwGPx3P2rC_QUDHzOr7EY93CVUEVEQitJAFbTJ64utBJ5QOhp4P8bfy0O=)"
      ],
      "text/plain": [
       "<IPython.core.display.Markdown object>"
      ]
     },
     "execution_count": 156,
     "metadata": {},
     "output_type": "execute_result"
    }
   ],
   "source": [
    "from utilities import *\n",
    "df = dataframe(\"usecase4.json\")\n",
    "#print(df)\n",
    "usecases1= todict(df, 'uc1_id', 'uc1_name')\n",
    "#usecases2= todict(df, 'uc2_id', 'uc2_name')\n",
    "actors= todict(df, 'actor_id', 'actor_name')\n",
    "aggregations = tolists(df, 'uc1_id', 'actor_id')\n",
    "#print(usecases1)\n",
    "#print(usecases2)\n",
    "print(aggregations)\n",
    "\n",
    "#rint(union(union(usecases1, usecases2),actors))\n",
    "diagram(objects(union(usecases1, actors), aggregations, 'o--', ' '))\n",
    "\n"
   ]
  },
  {
   "cell_type": "code",
   "execution_count": 157,
   "metadata": {},
   "outputs": [
    {
     "data": {
      "text/markdown": [
       "![Alt text](http://www.plantuml.com/plantuml/img/TT11Yy9038RXkxyYUFTWsxqK4MHPpwBhMUBukSoYavAailllhOZL4NgOmmlpCCaOd0mDAxie9KaOoVuNmMcy_PpMrAXSuW6Bu2rxbFGjYtY2IXeJ6tLNQ3Ph3O4Dy_ahtNNObPETe_TwAHhmaBjXMzHqvfYyEoknUAEzAWPLMHF-45h7akDfmqUiOOqaUpvP3kAg9aMG2_GhGN_-Ur9bvBQnJ2Rt-RCgiYgpglhgla9qccUHPvddc_qONG4=)"
      ],
      "text/plain": [
       "<IPython.core.display.Markdown object>"
      ]
     },
     "execution_count": 157,
     "metadata": {},
     "output_type": "execute_result"
    }
   ],
   "source": [
    "from utilities import *\n",
    "df1 = dataframe(\"usecase3.json\")  # UseCase Aggregationen\n",
    "df2 = dataframe(\"usecase4.json\")  # Actor Aggregationen\n",
    "\n",
    "# UseCases aus dem ersten Datensatz\n",
    "usecases1 = todict(df1, 'uc1_id', 'uc1_name')\n",
    "usecases2 = todict(df1, 'uc2_id', 'uc2_name')\n",
    "aggregations_usecases = tolists(df1, 'uc1_id', 'uc2_id')\n",
    "\n",
    "# Akteure aus dem zweiten Datensatz\n",
    "actors = todict(df2, 'actor_id', 'actor_name')\n",
    "aggregations_actors = tolists(df2, 'uc1_id', 'actor_id')\n",
    "\n",
    "# Kombinierte UseCase-Daten\n",
    "all_usecases = union(usecases1, usecases2)\n",
    "\n",
    "# Kombinierte Aggregationen (zwischen UseCases und Akteuren)\n",
    "all_aggregations = aggregations_usecases + aggregations_actors\n",
    "\n",
    "# Diagramm erstellen\n",
    "diagram(objects(all_usecases, all_aggregations, 'o--', 'usecase'))\n"
   ]
  },
  {
   "cell_type": "markdown",
   "metadata": {},
   "source": []
  }
 ],
 "metadata": {
  "kernelspec": {
   "display_name": "oml-rosetta",
   "language": "python",
   "name": "python3"
  },
  "language_info": {
   "codemirror_mode": {
    "name": "ipython",
    "version": 3
   },
   "file_extension": ".py",
   "mimetype": "text/x-python",
   "name": "python",
   "nbconvert_exporter": "python",
   "pygments_lexer": "ipython3",
   "version": "3.13.0"
  }
 },
 "nbformat": 4,
 "nbformat_minor": 2
}
