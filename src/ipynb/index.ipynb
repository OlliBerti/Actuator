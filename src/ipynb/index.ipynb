{
 "cells": [
  {
   "cell_type": "markdown",
   "metadata": {},
   "source": [
    "# Actuator\n",
    "The Actuator project is developing an OML reference model.\n"
   ]
  }
 ],
 "metadata": {
  "kernelspec": {
   "display_name": "oml-rosetta",
   "language": "python",
   "name": "python3"
  },
  "language_info": {
   "name": "python",
   "version": "3.13.0"
  }
 },
 "nbformat": 4,
 "nbformat_minor": 2
}
