{
 "cells": [
  {
   "cell_type": "markdown",
   "metadata": {},
   "source": [
    "# Actuator\n",
    "The Actuator project is developing an OML reference model.\n"
   ]
  },
  {
   "cell_type": "markdown",
   "metadata": {},
   "source": [
    "## Use Case\n",
    "The use case is illustrated as follows: "
   ]
  },
  {
   "cell_type": "code",
   "execution_count": null,
   "metadata": {},
   "outputs": [
    {
     "data": {
      "text/markdown": [
       "![Alt text](http://www.plantuml.com/plantuml/img/VSzF2u9040NmkvzYyEuXzRI8897dwCzPjcsA3TsHsL7gswT8bXqypE71_7WyZm8UMyrQYC6Hmu0k3pG2uNcxKT0ozVQAXP5EYoLteiBMoEH2q1w65yYo2TWUy_mNLmCNriutLcPV4Xlys6fDnmeQRPqCjoTlHpoxUCKb2l29fXCijQsF-eO7z2qv_wrDLdYgWD5GZxnpoFVNZD8_D6wdA9fsB5AyICaYfS4R)"
      ],
      "text/plain": [
       "<IPython.core.display.Markdown object>"
      ]
     },
     "execution_count": 123,
     "metadata": {},
     "output_type": "execute_result"
    }
   ],
   "source": [
    "from utilities import *\n",
    "df = dataframe(\"usecase3.json\")\n",
    "usecases1= todict(df, 'uc1_id', 'uc1_name')\n",
    "usecases2= todict(df, 'uc2_id', 'uc2_name')\n",
    "aggregations = tolists(df, 'uc1_id', 'uc2_id')\n",
    "\n",
    "diagram(objects(union(usecases1, usecases2), aggregations, 'o--', 'usecase'))"
   ]
  }
 ],
 "metadata": {
  "kernelspec": {
   "display_name": "oml-rosetta",
   "language": "python",
   "name": "python3"
  },
  "language_info": {
   "codemirror_mode": {
    "name": "ipython",
    "version": 3
   },
   "file_extension": ".py",
   "mimetype": "text/x-python",
   "name": "python",
   "nbconvert_exporter": "python",
   "pygments_lexer": "ipython3",
   "version": "3.13.0"
  }
 },
 "nbformat": 4,
 "nbformat_minor": 2
}
